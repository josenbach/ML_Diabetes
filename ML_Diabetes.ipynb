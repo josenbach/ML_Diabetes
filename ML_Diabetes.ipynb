{
 "cells": [
  {
   "cell_type": "markdown",
   "id": "182c5a03-627b-4a7b-85ec-d4112f0dc85d",
   "metadata": {},
   "source": [
    "# Machine Learning Diabetes Classification"
   ]
  },
  {
   "cell_type": "markdown",
   "id": "2443d871-6db0-48bb-ab11-0603bae3313c",
   "metadata": {},
   "source": [
    "## Read csv and perform basic data cleaning"
   ]
  },
  {
   "cell_type": "code",
   "execution_count": 1,
   "id": "ad70e763-65da-49fe-b303-57534697fdef",
   "metadata": {},
   "outputs": [
    {
     "name": "stdout",
     "output_type": "stream",
     "text": [
      "Collecting zipfile36\n",
      "  Downloading zipfile36-0.1.3-py3-none-any.whl (20 kB)\n",
      "Installing collected packages: zipfile36\n",
      "Successfully installed zipfile36-0.1.3\n"
     ]
    }
   ],
   "source": [
    "# Install zipfile36 if you haven't already\n",
    "!pip install zipfile36"
   ]
  },
  {
   "cell_type": "code",
   "execution_count": 2,
   "id": "59179824-61bb-428a-a1d0-f511db081b84",
   "metadata": {},
   "outputs": [],
   "source": [
    "# Import our dependencies\n",
    "from sklearn.model_selection import train_test_split\n",
    "from sklearn.preprocessing import StandardScaler\n",
    "from sklearn.metrics import accuracy_score\n",
    "import pandas as pd\n",
    "import numpy as np\n",
    "import tensorflow as tf\n",
    "from io import BytesIO\n",
    "from zipfile import ZipFile\n",
    "from urllib.request import urlopen"
   ]
  },
  {
   "cell_type": "code",
   "execution_count": 3,
   "id": "2f059d24-d934-4829-b24b-296032ccdfa6",
   "metadata": {},
   "outputs": [],
   "source": [
    "# Create dataframe\n",
    "z = urlopen('https://archive.ics.uci.edu/ml/machine-learning-databases/00296/dataset_diabetes.zip')\n",
    "myzip = ZipFile(BytesIO(z.read())).extract('dataset_diabetes/diabetic_data.csv')\n",
    "df = pd.read_csv(myzip)\n",
    "df.head(5)\n",
    "target = ['A1Cresult']"
   ]
  },
  {
   "cell_type": "code",
   "execution_count": 4,
   "id": "b34b6689-2de7-46a0-8c05-5e01c01e99e7",
   "metadata": {},
   "outputs": [
    {
     "name": "stderr",
     "output_type": "stream",
     "text": [
      "/Users/juliaheuer/opt/anaconda3/envs/mlenv/lib/python3.7/site-packages/ipykernel_launcher.py:2: FutureWarning: In a future version of pandas all arguments of DataFrame.drop except for the argument 'labels' will be keyword-only\n",
      "  \n",
      "/Users/juliaheuer/opt/anaconda3/envs/mlenv/lib/python3.7/site-packages/ipykernel_launcher.py:5: FutureWarning: In a future version of pandas all arguments of DataFrame.drop except for the argument 'labels' will be keyword-only\n",
      "  \"\"\"\n"
     ]
    }
   ],
   "source": [
    "# Drop the non-beneficial ID columns, 'encounter_id' and 'patient_nbr'\n",
    "df = df.drop(['encounter_id','patient_nbr'],1)\n",
    "\n",
    "# Drop mostly empty columns, 'weight', 'payer_code', 'max_glu_serum', and 'medical_specialty'\n",
    "df = df.drop(['weight', 'payer_code', 'max_glu_serum', 'medical_specialty'],1)\n",
    "\n",
    "# Replace '?' values to nulls\n",
    "df.replace({'?': np.nan}, inplace=True)\n",
    "\n",
    "# Replace 'None' values to nulls\n",
    "df.replace({'None': np.nan}, inplace=True)\n",
    "\n",
    "# Drop the null rows\n",
    "df = df.dropna()"
   ]
  },
  {
   "cell_type": "code",
   "execution_count": 5,
   "id": "5150ac9f-2499-4067-93d8-f243e9b3cadd",
   "metadata": {},
   "outputs": [],
   "source": [
    "# Convert the target column values to normal and high based on their values\n",
    "x = {'Norm': 'low'}   \n",
    "df = df.replace(x)\n",
    "x = dict.fromkeys(['>7', '>8'], 'high')    \n",
    "df = df.replace(x)\n",
    "df.reset_index(inplace=True, drop=True)"
   ]
  },
  {
   "cell_type": "code",
   "execution_count": 6,
   "id": "2d434e63-be18-4cfd-97d3-af27d9bfbe36",
   "metadata": {},
   "outputs": [
    {
     "data": {
      "text/plain": [
       "race                          5\n",
       "gender                        2\n",
       "age                          10\n",
       "admission_type_id             8\n",
       "discharge_disposition_id     21\n",
       "admission_source_id          15\n",
       "time_in_hospital             14\n",
       "num_lab_procedures          114\n",
       "num_procedures                7\n",
       "num_medications              67\n",
       "number_outpatient            24\n",
       "number_emergency             19\n",
       "number_inpatient             18\n",
       "diag_1                      490\n",
       "diag_2                      486\n",
       "diag_3                      539\n",
       "number_diagnoses             12\n",
       "A1Cresult                     2\n",
       "metformin                     4\n",
       "repaglinide                   4\n",
       "nateglinide                   4\n",
       "chlorpropamide                2\n",
       "glimepiride                   4\n",
       "acetohexamide                 1\n",
       "glipizide                     4\n",
       "glyburide                     4\n",
       "tolbutamide                   2\n",
       "pioglitazone                  4\n",
       "rosiglitazone                 4\n",
       "acarbose                      4\n",
       "miglitol                      4\n",
       "troglitazone                  1\n",
       "tolazamide                    3\n",
       "examide                       1\n",
       "citoglipton                   1\n",
       "insulin                       4\n",
       "glyburide-metformin           4\n",
       "glipizide-metformin           2\n",
       "glimepiride-pioglitazone      1\n",
       "metformin-rosiglitazone       1\n",
       "metformin-pioglitazone        1\n",
       "change                        2\n",
       "diabetesMed                   2\n",
       "readmitted                    3\n",
       "dtype: int64"
      ]
     },
     "execution_count": 6,
     "metadata": {},
     "output_type": "execute_result"
    }
   ],
   "source": [
    "# Determine the number of unique values in each column.\n",
    "df.nunique()"
   ]
  },
  {
   "cell_type": "code",
   "execution_count": 7,
   "id": "6f34de39-a90e-4fab-9b7d-3b35c2970969",
   "metadata": {},
   "outputs": [
    {
     "name": "stderr",
     "output_type": "stream",
     "text": [
      "/Users/juliaheuer/opt/anaconda3/envs/mlenv/lib/python3.7/site-packages/ipykernel_launcher.py:2: FutureWarning: In a future version of pandas all arguments of DataFrame.drop except for the argument 'labels' will be keyword-only\n",
      "  \n"
     ]
    },
    {
     "data": {
      "text/plain": [
       "race                          5\n",
       "gender                        2\n",
       "age                          10\n",
       "admission_type_id             8\n",
       "discharge_disposition_id     21\n",
       "admission_source_id          15\n",
       "time_in_hospital             14\n",
       "num_lab_procedures          114\n",
       "num_procedures                7\n",
       "num_medications              67\n",
       "number_outpatient            24\n",
       "number_emergency             19\n",
       "number_inpatient             18\n",
       "diag_1                      490\n",
       "diag_2                      486\n",
       "diag_3                      539\n",
       "number_diagnoses             12\n",
       "A1Cresult                     2\n",
       "metformin                     4\n",
       "repaglinide                   4\n",
       "nateglinide                   4\n",
       "chlorpropamide                2\n",
       "glimepiride                   4\n",
       "glipizide                     4\n",
       "glyburide                     4\n",
       "tolbutamide                   2\n",
       "pioglitazone                  4\n",
       "rosiglitazone                 4\n",
       "acarbose                      4\n",
       "miglitol                      4\n",
       "tolazamide                    3\n",
       "insulin                       4\n",
       "glyburide-metformin           4\n",
       "glipizide-metformin           2\n",
       "change                        2\n",
       "diabetesMed                   2\n",
       "readmitted                    3\n",
       "dtype: int64"
      ]
     },
     "execution_count": 7,
     "metadata": {},
     "output_type": "execute_result"
    }
   ],
   "source": [
    "# Drop columns with only 1 value\n",
    "df = df.drop(['acetohexamide', 'troglitazone', 'examide', 'citoglipton','glimepiride-pioglitazone', 'metformin-rosiglitazone', 'metformin-pioglitazone'],1)\n",
    "df.nunique()"
   ]
  },
  {
   "cell_type": "code",
   "execution_count": 9,
   "id": "75fea383-a8b3-4da7-bf17-bfe0b2d58d0b",
   "metadata": {},
   "outputs": [
    {
     "name": "stdout",
     "output_type": "stream",
     "text": [
      "<class 'pandas.core.frame.DataFrame'>\n",
      "RangeIndex: 16193 entries, 0 to 16192\n",
      "Data columns (total 37 columns):\n",
      " #   Column                    Non-Null Count  Dtype \n",
      "---  ------                    --------------  ----- \n",
      " 0   race                      16193 non-null  object\n",
      " 1   gender                    16193 non-null  object\n",
      " 2   age                       16193 non-null  object\n",
      " 3   admission_type_id         16193 non-null  int64 \n",
      " 4   discharge_disposition_id  16193 non-null  int64 \n",
      " 5   admission_source_id       16193 non-null  int64 \n",
      " 6   time_in_hospital          16193 non-null  int64 \n",
      " 7   num_lab_procedures        16193 non-null  int64 \n",
      " 8   num_procedures            16193 non-null  int64 \n",
      " 9   num_medications           16193 non-null  int64 \n",
      " 10  number_outpatient         16193 non-null  int64 \n",
      " 11  number_emergency          16193 non-null  int64 \n",
      " 12  number_inpatient          16193 non-null  int64 \n",
      " 13  diag_1                    16193 non-null  object\n",
      " 14  diag_2                    16193 non-null  object\n",
      " 15  diag_3                    16193 non-null  object\n",
      " 16  number_diagnoses          16193 non-null  int64 \n",
      " 17  A1Cresult                 16193 non-null  object\n",
      " 18  metformin                 16193 non-null  object\n",
      " 19  repaglinide               16193 non-null  object\n",
      " 20  nateglinide               16193 non-null  object\n",
      " 21  chlorpropamide            16193 non-null  object\n",
      " 22  glimepiride               16193 non-null  object\n",
      " 23  glipizide                 16193 non-null  object\n",
      " 24  glyburide                 16193 non-null  object\n",
      " 25  tolbutamide               16193 non-null  object\n",
      " 26  pioglitazone              16193 non-null  object\n",
      " 27  rosiglitazone             16193 non-null  object\n",
      " 28  acarbose                  16193 non-null  object\n",
      " 29  miglitol                  16193 non-null  object\n",
      " 30  tolazamide                16193 non-null  object\n",
      " 31  insulin                   16193 non-null  object\n",
      " 32  glyburide-metformin       16193 non-null  object\n",
      " 33  glipizide-metformin       16193 non-null  object\n",
      " 34  change                    16193 non-null  object\n",
      " 35  diabetesMed               16193 non-null  object\n",
      " 36  readmitted                16193 non-null  object\n",
      "dtypes: int64(11), object(26)\n",
      "memory usage: 4.6+ MB\n"
     ]
    }
   ],
   "source": [
    "#Info on the data frame data types, .non_null, etc. \n",
    "df.info()"
   ]
  },
  {
   "cell_type": "code",
   "execution_count": 13,
   "id": "bb3192e8",
   "metadata": {},
   "outputs": [
    {
     "data": {
      "text/html": [
       "<div>\n",
       "<style scoped>\n",
       "    .dataframe tbody tr th:only-of-type {\n",
       "        vertical-align: middle;\n",
       "    }\n",
       "\n",
       "    .dataframe tbody tr th {\n",
       "        vertical-align: top;\n",
       "    }\n",
       "\n",
       "    .dataframe thead th {\n",
       "        text-align: right;\n",
       "    }\n",
       "</style>\n",
       "<table border=\"1\" class=\"dataframe\">\n",
       "  <thead>\n",
       "    <tr style=\"text-align: right;\">\n",
       "      <th></th>\n",
       "      <th>race</th>\n",
       "      <th>gender</th>\n",
       "      <th>age</th>\n",
       "      <th>admission_type_id</th>\n",
       "      <th>discharge_disposition_id</th>\n",
       "      <th>admission_source_id</th>\n",
       "      <th>time_in_hospital</th>\n",
       "      <th>num_lab_procedures</th>\n",
       "      <th>num_procedures</th>\n",
       "      <th>num_medications</th>\n",
       "      <th>...</th>\n",
       "      <th>rosiglitazone</th>\n",
       "      <th>acarbose</th>\n",
       "      <th>miglitol</th>\n",
       "      <th>tolazamide</th>\n",
       "      <th>insulin</th>\n",
       "      <th>glyburide-metformin</th>\n",
       "      <th>glipizide-metformin</th>\n",
       "      <th>change</th>\n",
       "      <th>diabetesMed</th>\n",
       "      <th>readmitted</th>\n",
       "    </tr>\n",
       "  </thead>\n",
       "  <tbody>\n",
       "    <tr>\n",
       "      <th>0</th>\n",
       "      <td>Caucasian</td>\n",
       "      <td>Male</td>\n",
       "      <td>[80-90)</td>\n",
       "      <td>1</td>\n",
       "      <td>3</td>\n",
       "      <td>7</td>\n",
       "      <td>6</td>\n",
       "      <td>64</td>\n",
       "      <td>3</td>\n",
       "      <td>18</td>\n",
       "      <td>...</td>\n",
       "      <td>No</td>\n",
       "      <td>No</td>\n",
       "      <td>No</td>\n",
       "      <td>No</td>\n",
       "      <td>No</td>\n",
       "      <td>No</td>\n",
       "      <td>No</td>\n",
       "      <td>Ch</td>\n",
       "      <td>Yes</td>\n",
       "      <td>NO</td>\n",
       "    </tr>\n",
       "    <tr>\n",
       "      <th>1</th>\n",
       "      <td>Caucasian</td>\n",
       "      <td>Female</td>\n",
       "      <td>[70-80)</td>\n",
       "      <td>1</td>\n",
       "      <td>3</td>\n",
       "      <td>7</td>\n",
       "      <td>5</td>\n",
       "      <td>34</td>\n",
       "      <td>0</td>\n",
       "      <td>17</td>\n",
       "      <td>...</td>\n",
       "      <td>No</td>\n",
       "      <td>No</td>\n",
       "      <td>No</td>\n",
       "      <td>No</td>\n",
       "      <td>Up</td>\n",
       "      <td>No</td>\n",
       "      <td>No</td>\n",
       "      <td>Ch</td>\n",
       "      <td>Yes</td>\n",
       "      <td>&gt;30</td>\n",
       "    </tr>\n",
       "    <tr>\n",
       "      <th>2</th>\n",
       "      <td>Other</td>\n",
       "      <td>Female</td>\n",
       "      <td>[50-60)</td>\n",
       "      <td>1</td>\n",
       "      <td>1</td>\n",
       "      <td>7</td>\n",
       "      <td>2</td>\n",
       "      <td>53</td>\n",
       "      <td>0</td>\n",
       "      <td>6</td>\n",
       "      <td>...</td>\n",
       "      <td>No</td>\n",
       "      <td>No</td>\n",
       "      <td>No</td>\n",
       "      <td>No</td>\n",
       "      <td>Up</td>\n",
       "      <td>No</td>\n",
       "      <td>No</td>\n",
       "      <td>Ch</td>\n",
       "      <td>Yes</td>\n",
       "      <td>NO</td>\n",
       "    </tr>\n",
       "    <tr>\n",
       "      <th>3</th>\n",
       "      <td>Caucasian</td>\n",
       "      <td>Male</td>\n",
       "      <td>[60-70)</td>\n",
       "      <td>1</td>\n",
       "      <td>2</td>\n",
       "      <td>7</td>\n",
       "      <td>1</td>\n",
       "      <td>59</td>\n",
       "      <td>0</td>\n",
       "      <td>12</td>\n",
       "      <td>...</td>\n",
       "      <td>No</td>\n",
       "      <td>No</td>\n",
       "      <td>No</td>\n",
       "      <td>No</td>\n",
       "      <td>Steady</td>\n",
       "      <td>No</td>\n",
       "      <td>No</td>\n",
       "      <td>No</td>\n",
       "      <td>Yes</td>\n",
       "      <td>NO</td>\n",
       "    </tr>\n",
       "    <tr>\n",
       "      <th>4</th>\n",
       "      <td>Caucasian</td>\n",
       "      <td>Female</td>\n",
       "      <td>[80-90)</td>\n",
       "      <td>1</td>\n",
       "      <td>1</td>\n",
       "      <td>7</td>\n",
       "      <td>3</td>\n",
       "      <td>34</td>\n",
       "      <td>0</td>\n",
       "      <td>11</td>\n",
       "      <td>...</td>\n",
       "      <td>No</td>\n",
       "      <td>No</td>\n",
       "      <td>No</td>\n",
       "      <td>No</td>\n",
       "      <td>No</td>\n",
       "      <td>No</td>\n",
       "      <td>No</td>\n",
       "      <td>No</td>\n",
       "      <td>No</td>\n",
       "      <td>&gt;30</td>\n",
       "    </tr>\n",
       "  </tbody>\n",
       "</table>\n",
       "<p>5 rows × 37 columns</p>\n",
       "</div>"
      ],
      "text/plain": [
       "        race  gender      age  admission_type_id  discharge_disposition_id  \\\n",
       "0  Caucasian    Male  [80-90)                  1                         3   \n",
       "1  Caucasian  Female  [70-80)                  1                         3   \n",
       "2      Other  Female  [50-60)                  1                         1   \n",
       "3  Caucasian    Male  [60-70)                  1                         2   \n",
       "4  Caucasian  Female  [80-90)                  1                         1   \n",
       "\n",
       "   admission_source_id  time_in_hospital  num_lab_procedures  num_procedures  \\\n",
       "0                    7                 6                  64               3   \n",
       "1                    7                 5                  34               0   \n",
       "2                    7                 2                  53               0   \n",
       "3                    7                 1                  59               0   \n",
       "4                    7                 3                  34               0   \n",
       "\n",
       "   num_medications  ...  rosiglitazone  acarbose  miglitol tolazamide insulin  \\\n",
       "0               18  ...             No        No        No         No      No   \n",
       "1               17  ...             No        No        No         No      Up   \n",
       "2                6  ...             No        No        No         No      Up   \n",
       "3               12  ...             No        No        No         No  Steady   \n",
       "4               11  ...             No        No        No         No      No   \n",
       "\n",
       "  glyburide-metformin  glipizide-metformin change diabetesMed readmitted  \n",
       "0                  No                   No     Ch         Yes         NO  \n",
       "1                  No                   No     Ch         Yes        >30  \n",
       "2                  No                   No     Ch         Yes         NO  \n",
       "3                  No                   No     No         Yes         NO  \n",
       "4                  No                   No     No          No        >30  \n",
       "\n",
       "[5 rows x 37 columns]"
      ]
     },
     "execution_count": 13,
     "metadata": {},
     "output_type": "execute_result"
    }
   ],
   "source": [
    "#Looking at dataframe \n",
    "df.head()"
   ]
  },
  {
   "cell_type": "code",
   "execution_count": 11,
   "id": "0afe84f4",
   "metadata": {},
   "outputs": [
    {
     "data": {
      "text/plain": [
       "['race',\n",
       " 'gender',\n",
       " 'age',\n",
       " 'diag_1',\n",
       " 'diag_2',\n",
       " 'diag_3',\n",
       " 'A1Cresult',\n",
       " 'metformin',\n",
       " 'repaglinide',\n",
       " 'nateglinide',\n",
       " 'chlorpropamide',\n",
       " 'glimepiride',\n",
       " 'glipizide',\n",
       " 'glyburide',\n",
       " 'tolbutamide',\n",
       " 'pioglitazone',\n",
       " 'rosiglitazone',\n",
       " 'acarbose',\n",
       " 'miglitol',\n",
       " 'tolazamide',\n",
       " 'insulin',\n",
       " 'glyburide-metformin',\n",
       " 'glipizide-metformin',\n",
       " 'change',\n",
       " 'diabetesMed',\n",
       " 'readmitted']"
      ]
     },
     "execution_count": 11,
     "metadata": {},
     "output_type": "execute_result"
    }
   ],
   "source": [
    "# Generate our categorical variable list\n",
    "df_cat = df.dtypes[df.dtypes == \"object\"].index.tolist()\n",
    "df_cat"
   ]
  },
  {
   "cell_type": "code",
   "execution_count": 14,
   "id": "5a786581",
   "metadata": {},
   "outputs": [
    {
     "data": {
      "text/plain": [
       "race                     5\n",
       "gender                   2\n",
       "age                     10\n",
       "diag_1                 490\n",
       "diag_2                 486\n",
       "diag_3                 539\n",
       "A1Cresult                2\n",
       "metformin                4\n",
       "repaglinide              4\n",
       "nateglinide              4\n",
       "chlorpropamide           2\n",
       "glimepiride              4\n",
       "glipizide                4\n",
       "glyburide                4\n",
       "tolbutamide              2\n",
       "pioglitazone             4\n",
       "rosiglitazone            4\n",
       "acarbose                 4\n",
       "miglitol                 4\n",
       "tolazamide               3\n",
       "insulin                  4\n",
       "glyburide-metformin      4\n",
       "glipizide-metformin      2\n",
       "change                   2\n",
       "diabetesMed              2\n",
       "readmitted               3\n",
       "dtype: int64"
      ]
     },
     "execution_count": 14,
     "metadata": {},
     "output_type": "execute_result"
    }
   ],
   "source": [
    "# Check the number of unique values in each column\n",
    "df[df_cat].nunique()"
   ]
  },
  {
   "cell_type": "code",
   "execution_count": 15,
   "id": "36ce87d7",
   "metadata": {},
   "outputs": [
    {
     "data": {
      "text/plain": [
       "428    1144\n",
       "414     976\n",
       "786     853\n",
       "410     806\n",
       "486     531\n",
       "       ... \n",
       "237       1\n",
       "617       1\n",
       "356       1\n",
       "989       1\n",
       "893       1\n",
       "Name: diag_1, Length: 490, dtype: int64"
      ]
     },
     "execution_count": 15,
     "metadata": {},
     "output_type": "execute_result"
    }
   ],
   "source": [
    "# Check the unique value counts to see if binning is required\n",
    "df.diag_1.value_counts()"
   ]
  },
  {
   "cell_type": "code",
   "execution_count": 16,
   "id": "dea082e5",
   "metadata": {},
   "outputs": [
    {
     "data": {
      "text/plain": [
       "276       1280\n",
       "428        938\n",
       "250        753\n",
       "427        739\n",
       "250.02     677\n",
       "          ... \n",
       "316          1\n",
       "E858         1\n",
       "980          1\n",
       "725          1\n",
       "110          1\n",
       "Name: diag_2, Length: 486, dtype: int64"
      ]
     },
     "execution_count": 16,
     "metadata": {},
     "output_type": "execute_result"
    }
   ],
   "source": [
    "# Check the unique value counts to see if binning is required\n",
    "df.diag_2.value_counts()"
   ]
  },
  {
   "cell_type": "code",
   "execution_count": 17,
   "id": "20efa45b",
   "metadata": {},
   "outputs": [
    {
     "data": {
      "text/plain": [
       "250    1557\n",
       "401    1229\n",
       "276    1057\n",
       "428     665\n",
       "414     550\n",
       "       ... \n",
       "550       1\n",
       "V55       1\n",
       "314       1\n",
       "579       1\n",
       "825       1\n",
       "Name: diag_3, Length: 539, dtype: int64"
      ]
     },
     "execution_count": 17,
     "metadata": {},
     "output_type": "execute_result"
    }
   ],
   "source": [
    "# Check the unique value counts to see if binning is required\n",
    "df.diag_3.value_counts()"
   ]
  },
  {
   "cell_type": "code",
   "execution_count": null,
   "id": "bc1b23df",
   "metadata": {},
   "outputs": [],
   "source": []
  }
 ],
 "metadata": {
  "kernelspec": {
   "display_name": "mlenv",
   "language": "python",
   "name": "mlenv"
  },
  "language_info": {
   "codemirror_mode": {
    "name": "ipython",
    "version": 3
   },
   "file_extension": ".py",
   "mimetype": "text/x-python",
   "name": "python",
   "nbconvert_exporter": "python",
   "pygments_lexer": "ipython3",
   "version": "3.7.7"
  }
 },
 "nbformat": 4,
 "nbformat_minor": 5
}
